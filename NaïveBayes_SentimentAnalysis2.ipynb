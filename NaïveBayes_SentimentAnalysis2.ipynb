{
  "nbformat": 4,
  "nbformat_minor": 0,
  "metadata": {
    "colab": {
      "provenance": [],
      "machine_shape": "hm",
      "gpuType": "V100",
      "authorship_tag": "ABX9TyOnnIErS/twlFIASAbI+lQ6",
      "include_colab_link": true
    },
    "kernelspec": {
      "name": "python3",
      "display_name": "Python 3"
    },
    "language_info": {
      "name": "python"
    },
    "accelerator": "GPU"
  },
  "cells": [
    {
      "cell_type": "markdown",
      "metadata": {
        "id": "view-in-github",
        "colab_type": "text"
      },
      "source": [
        "<a href=\"https://colab.research.google.com/github/OziomaEunice/Sentiment_GPT/blob/develop/Na%C3%AFveBayes_SentimentAnalysis2.ipynb\" target=\"_parent\"><img src=\"https://colab.research.google.com/assets/colab-badge.svg\" alt=\"Open In Colab\"/></a>"
      ]
    },
    {
      "cell_type": "markdown",
      "source": [
        "# **Naïve Bayes for Sentiment Analysis**"
      ],
      "metadata": {
        "id": "YSwA7kArHtQS"
      }
    },
    {
      "cell_type": "code",
      "source": [
        "# install the necessary libraries\n",
        "! pip install numpy\n",
        "! pip install pandas\n",
        "! pip install scikit-learn\n",
        "! pip install nltk\n",
        "! pip install openpyxl # for reading excel files"
      ],
      "metadata": {
        "id": "qZ16bV2ieeN6"
      },
      "execution_count": null,
      "outputs": []
    },
    {
      "cell_type": "code",
      "source": [
        "# import the necessary libraries\n",
        "import numpy as np\n",
        "import pandas as pd\n",
        "import nltk\n",
        "import re\n",
        "import seaborn as sns\n",
        "import matplotlib.pyplot as plt\n",
        "from wordcloud import WordCloud\n",
        "from sklearn.model_selection import train_test_split, GridSearchCV\n",
        "from sklearn.feature_extraction.text import TfidfVectorizer\n",
        "from sklearn.naive_bayes import MultinomialNB\n",
        "from sklearn.metrics import classification_report, accuracy_score, confusion_matrix, ConfusionMatrixDisplay\n",
        "from matplotlib import style\n",
        "style.use('ggplot')\n",
        "from nltk.corpus import stopwords\n",
        "from nltk.stem import WordNetLemmatizer\n",
        "from nltk.stem import PorterStemmer\n",
        "from nltk.tokenize import word_tokenize"
      ],
      "metadata": {
        "id": "WG8j6h2-eh6W"
      },
      "execution_count": null,
      "outputs": []
    },
    {
      "cell_type": "code",
      "source": [
        "# Download the stopwords dataset\n",
        "nltk.download('stopwords')\n",
        "\n",
        "# Download wordnet dataset\n",
        "nltk.download('wordnet')\n",
        "\n",
        "# Download punkt dataset\n",
        "nltk.download('punkt')\n",
        "\n",
        "# Get the set of English stop words\n",
        "stop_words = set(stopwords.words('english'))\n",
        "\n",
        "# Initialize the lemmatizer\n",
        "lemmatizer = WordNetLemmatizer()"
      ],
      "metadata": {
        "id": "uvin92vigwzR"
      },
      "execution_count": null,
      "outputs": []
    },
    {
      "cell_type": "code",
      "source": [
        "# since dataset is imported to my Google Colab (which will remain in here temporary)\n",
        "# read excel file\n",
        "df = pd.read_excel('/content/Tweets.xlsx') # for Twitter dataset\n",
        "df2 = pd.read_excel('/content/IMDB_Dataset.xlsx') # for IMDb Movie Review dataset"
      ],
      "metadata": {
        "id": "oc2tQE53g6Mq"
      },
      "execution_count": null,
      "outputs": []
    },
    {
      "cell_type": "code",
      "source": [
        "# check the number of rows and columns\n",
        "df.shape"
      ],
      "metadata": {
        "id": "mKBP23eig7Bz"
      },
      "execution_count": null,
      "outputs": []
    },
    {
      "cell_type": "code",
      "source": [
        "df2.shape"
      ],
      "metadata": {
        "id": "dOSveLqtg-GJ"
      },
      "execution_count": null,
      "outputs": []
    },
    {
      "cell_type": "code",
      "source": [
        "# show Twitter dataframe\n",
        "df.head(10)"
      ],
      "metadata": {
        "id": "FRR2etpEhAuT"
      },
      "execution_count": null,
      "outputs": []
    },
    {
      "cell_type": "code",
      "source": [
        "# show IMDb dataset\n",
        "df2.head(10)"
      ],
      "metadata": {
        "id": "1faRutJbhKfx"
      },
      "execution_count": null,
      "outputs": []
    },
    {
      "cell_type": "code",
      "source": [
        "# datatype info\n",
        "df.info()\n",
        "\n",
        "print('\\n***========================***\\n')\n",
        "\n",
        "df2.info()"
      ],
      "metadata": {
        "id": "9MWzu3UbhyII"
      },
      "execution_count": null,
      "outputs": []
    },
    {
      "cell_type": "code",
      "source": [
        "# counting the number of missing values in the dataset\n",
        "df.isnull().sum()"
      ],
      "metadata": {
        "id": "FQRvlr7Jhy7Q"
      },
      "execution_count": null,
      "outputs": []
    },
    {
      "cell_type": "code",
      "source": [
        "df2.isnull().sum()"
      ],
      "metadata": {
        "id": "WMheNM3Sh2e9"
      },
      "execution_count": null,
      "outputs": []
    },
    {
      "cell_type": "markdown",
      "source": [
        "### **Visualisation (before preprocessing)**"
      ],
      "metadata": {
        "id": "eBKizd5WJgpq"
      }
    },
    {
      "cell_type": "markdown",
      "source": [
        "#### **Twitter**"
      ],
      "metadata": {
        "id": "zLSorqnhLIDp"
      }
    },
    {
      "cell_type": "code",
      "source": [
        "# Visualize sentiment distribution before preprocessing\n",
        "plt.figure(figsize=(10, 6))\n",
        "sns.countplot(x='airline_sentiment', data=df, palette=['#99FF99', '#3399FF', '#FF6666'])\n",
        "plt.title('Sentiment Distribution Twitter US Airline Dataset\\n (Before Preprocessing)')\n",
        "plt.xlabel('Sentiment')\n",
        "plt.ylabel('Count')\n",
        "plt.show()"
      ],
      "metadata": {
        "id": "iB9vNy4bZanH"
      },
      "execution_count": null,
      "outputs": []
    },
    {
      "cell_type": "code",
      "source": [
        "# Visualise sentiment in wordcloud\n",
        "def generate_wordcloud(text, title):\n",
        "    wordcloud = WordCloud(width = 800, height = 800,\n",
        "                background_color ='white',\n",
        "                stopwords = stop_words,\n",
        "                min_font_size = 10).generate(text)\n",
        "\n",
        "    # Plot the WordCloud image\n",
        "    plt.figure(figsize = (8, 8), facecolor = None)\n",
        "    plt.imshow(wordcloud)\n",
        "    plt.axis(\"off\")\n",
        "    plt.tight_layout(pad = 0)\n",
        "    plt.title(title)\n",
        "    plt.show()\n",
        "\n",
        "# Visualize word cloud before preprocessing for Twitter dataset\n",
        "generate_wordcloud(' '.join(df['text'].values), 'Twitter - Word Cloud (Before Preprocessing)')"
      ],
      "metadata": {
        "id": "R_I_PrKPJwsg"
      },
      "execution_count": null,
      "outputs": []
    },
    {
      "cell_type": "markdown",
      "source": [
        "#### **IMDb**"
      ],
      "metadata": {
        "id": "udzuC6tALLQr"
      }
    },
    {
      "cell_type": "code",
      "source": [
        "# Visualize sentiment distribution before preprocessing\n",
        "plt.figure(figsize=(10, 6))\n",
        "sns.countplot(x='sentiment', data=df2, palette=['#3399FF', '#FF6666'])\n",
        "plt.title('Sentiment Distribution IMDb Movie Review Dataset\\n (Before Preprocessing)')\n",
        "plt.xlabel('Sentiment')\n",
        "plt.ylabel('Count')\n",
        "plt.show()"
      ],
      "metadata": {
        "id": "m84IQCpELPpN"
      },
      "execution_count": null,
      "outputs": []
    },
    {
      "cell_type": "code",
      "source": [
        "# Visualize word cloud before preprocessing for IMDb dataset\n",
        "generate_wordcloud(' '.join(df2['review'].values), 'IMDb - Word Cloud (Before Preprocessing)')"
      ],
      "metadata": {
        "id": "156Y8qd1La4m"
      },
      "execution_count": null,
      "outputs": []
    },
    {
      "cell_type": "markdown",
      "source": [
        "## **Preprocessing Dataset**"
      ],
      "metadata": {
        "id": "F9bukd715NPZ"
      }
    },
    {
      "cell_type": "markdown",
      "source": [
        "### **Handling Missing Values**"
      ],
      "metadata": {
        "id": "m6ioPx_mE_M3"
      }
    },
    {
      "cell_type": "code",
      "source": [
        "# drop columns that are not needed for processing data\n",
        "# In this case, for the Twitter dataset\n",
        "df = df.drop(columns=['tweet_id', 'airline_sentiment_gold', 'negativereason', 'negativereason_confidence', 'negativereason_gold', 'retweet_count', 'tweet_coord', 'tweet_created', 'tweet_location', 'user_timezone'])"
      ],
      "metadata": {
        "id": "CZM37ihbBuCe"
      },
      "execution_count": null,
      "outputs": []
    },
    {
      "cell_type": "code",
      "source": [
        "df.isnull().sum()"
      ],
      "metadata": {
        "id": "wkhCVqpaDf3Y"
      },
      "execution_count": null,
      "outputs": []
    },
    {
      "cell_type": "code",
      "source": [
        "df.head(10)"
      ],
      "metadata": {
        "id": "BNLQrD8OkaHf"
      },
      "execution_count": null,
      "outputs": []
    },
    {
      "cell_type": "markdown",
      "source": [
        "### **Cleaning Dataset**"
      ],
      "metadata": {
        "id": "qXFfrIucFGKt"
      }
    },
    {
      "cell_type": "code",
      "source": [
        "# clean (preprocess) the Twitter dataset\n",
        "def cleanData1(text, min_word_length = 3):\n",
        "  text = text.lower()\n",
        "  text = re.sub(r'@[A-Za-z0-9]+', \"\", text) # this informs Python the the mentions in text must be substituted with an empty string\n",
        "  text = re.sub(r'#', \"\", text) # removing #\n",
        "  text = re.sub(r'RT[\\s]+', \"\", text) # removing retweets\n",
        "  text = re.sub(r'https?:\\/\\/\\S+', \"\", text) # removing links\n",
        "  text = ' '.join(word for word in text.split() if len(word) >= min_word_length and word not in stop_words) # Remove short words\n",
        "\n",
        "  punctuations = '@#!?+&*[]-%.:/();$=><|{}^' + \"'`\" + '_'\n",
        "  for p in punctuations:\n",
        "      text = text.replace(p,'') #Removing punctuations\n",
        "\n",
        "  # Lemmatize the words\n",
        "  words = nltk.word_tokenize(text)\n",
        "  lemmatized_words = [lemmatizer.lemmatize(word) for word in words]\n",
        "  text = ' '.join(lemmatized_words)\n",
        "\n",
        "  return text"
      ],
      "metadata": {
        "id": "fEBGU8jvQO1c"
      },
      "execution_count": null,
      "outputs": []
    },
    {
      "cell_type": "code",
      "source": [
        "# clean (preprocess) the IMDb Movie Review dataset\n",
        "def cleanData2(review, min_word_length = 3):\n",
        "  review = review.lower()\n",
        "  review = re.sub(r'@[A-Za-z0-9]+', \"\", review) # this informs Python the the mentions in text must be substituted with an empty string\n",
        "  review = re.sub(r'#', \"\", review) # removing #\n",
        "  review = re.sub(r'RT[\\s]+', \"\", review) # removing retweets\n",
        "  review = re.sub(r'https?:\\/\\/\\S+', \"\", review) # removing links\n",
        "  review = ' '.join(word for word in review.split() if len(word) >= min_word_length and word not in stop_words) # Remove short words\n",
        "\n",
        "  punctuations = '@#!?+&*[]-%.:/();$=><|{}^' + \"'`\" + '_'\n",
        "  for p in punctuations:\n",
        "      review = review.replace(p,'') #Removing punctuations\n",
        "\n",
        "  # Lemmatize the words\n",
        "  words = nltk.word_tokenize(review)\n",
        "  lemmatized_words = [lemmatizer.lemmatize(word) for word in words]\n",
        "  review= ' '.join(lemmatized_words)\n",
        "\n",
        "  return review"
      ],
      "metadata": {
        "id": "pjiVZ1RCROBK"
      },
      "execution_count": null,
      "outputs": []
    },
    {
      "cell_type": "code",
      "source": [
        "# df['text'] = df['text'].apply(cleanData)\n",
        "\n",
        "# Apply the cleanData function to all text columns in the dataframe\n",
        "df = df.applymap(lambda x: cleanData1(x) if isinstance(x, str) else x)"
      ],
      "metadata": {
        "id": "vzqiudGD7Xa0"
      },
      "execution_count": null,
      "outputs": []
    },
    {
      "cell_type": "code",
      "source": [
        "df2 = df2.applymap(lambda x: cleanData2(x) if isinstance(x, str) else x)"
      ],
      "metadata": {
        "id": "FFCVY0f3MU5_"
      },
      "execution_count": null,
      "outputs": []
    },
    {
      "cell_type": "markdown",
      "source": [
        "### **Visualisation (after preprocessing)**"
      ],
      "metadata": {
        "id": "Sz-P__TvLkCN"
      }
    },
    {
      "cell_type": "markdown",
      "source": [
        "#### **Twitter**"
      ],
      "metadata": {
        "id": "-aFyv0gFLyf2"
      }
    },
    {
      "cell_type": "code",
      "source": [
        "# Visualize sentiment distribution before preprocessing\n",
        "plt.figure(figsize=(10, 6))\n",
        "sns.countplot(x='airline_sentiment', data=df, palette=['#99FF99', '#3399FF', '#FF6666'])\n",
        "plt.title('Sentiment Distribution Twitter US Airline Dataset\\n (After Preprocessing)')\n",
        "plt.xlabel('Sentiment')\n",
        "plt.ylabel('Count')\n",
        "plt.show()"
      ],
      "metadata": {
        "id": "oX8gGiMqNM3c"
      },
      "execution_count": null,
      "outputs": []
    },
    {
      "cell_type": "code",
      "source": [
        "# Visualize word cloud after preprocessing for Twitter dataset\n",
        "generate_wordcloud(' '.join(df['text'].values), 'Twitter - Word Cloud (After Preprocessing)')"
      ],
      "metadata": {
        "id": "02Z4_g0NL2eC"
      },
      "execution_count": null,
      "outputs": []
    },
    {
      "cell_type": "markdown",
      "source": [
        "#### **IMDb**"
      ],
      "metadata": {
        "id": "xG2Ma7Su9lr4"
      }
    },
    {
      "cell_type": "code",
      "source": [
        "# Visualize sentiment distribution after preprocessing\n",
        "plt.figure(figsize=(10, 6))\n",
        "sns.countplot(x='sentiment', data=df2, palette=['#3399FF', '#FF6666'])\n",
        "plt.title('Sentiment Distribution IMDb Movie Review Dataset\\n (After Preprocessing)')\n",
        "plt.xlabel('Sentiment')\n",
        "plt.ylabel('Count')\n",
        "plt.show()"
      ],
      "metadata": {
        "id": "SwfjL22WM3TS"
      },
      "execution_count": null,
      "outputs": []
    },
    {
      "cell_type": "code",
      "source": [
        "# Visualize word cloud after preprocessing for IMDb dataset\n",
        "generate_wordcloud(' '.join(df2['review'].values), 'IMDb - Word Cloud (After Preprocessing)')"
      ],
      "metadata": {
        "id": "084JSuHLL8yX"
      },
      "execution_count": null,
      "outputs": []
    },
    {
      "cell_type": "markdown",
      "source": [
        "### **Converting labels into integers or numeric values for ML**\n",
        "**The purpose of this conversion is so that machines can understand the labels, since they aren't able to understand text data**"
      ],
      "metadata": {
        "id": "uuLGVwJ8Xjt_"
      }
    },
    {
      "cell_type": "code",
      "source": [
        "# create a new column called data and link the airline_sentiment to it\n",
        "# (this 'label' column will have numbers indicating 1, 0, -1\n",
        "# (positive, neutral, negative)\n",
        "df['label'] = df['airline_sentiment'].apply(lambda x: int(1) if str(x) == 'positive' else (0 if x == 'neutral' else -1))\n",
        "df2['label'] = df2['sentiment'].apply(lambda x: int(1) if x == 'positive' else (0 if x == 'neutral' else -1))"
      ],
      "metadata": {
        "id": "1VN2KDt3YAQx"
      },
      "execution_count": null,
      "outputs": []
    },
    {
      "cell_type": "code",
      "source": [
        "df[['airline_sentiment', 'text', 'label']].head(20)"
      ],
      "metadata": {
        "id": "foTdNCipZWfZ"
      },
      "execution_count": null,
      "outputs": []
    },
    {
      "cell_type": "markdown",
      "source": [
        "## **Feature Extraction: TF-IDF Vectorisation**"
      ],
      "metadata": {
        "id": "9srU43UzWKew"
      }
    },
    {
      "cell_type": "markdown",
      "source": [
        "### **Split the Dataset into Training and Testing**"
      ],
      "metadata": {
        "id": "OMM61MVHglV_"
      }
    },
    {
      "cell_type": "code",
      "source": [
        "text_train, text_test, label_train, label_test = train_test_split(\n",
        "                                          df['text'].values,\n",
        "                                          df['label'].values,\n",
        "                                          test_size = 0.2,\n",
        "                                          random_state = 42,\n",
        "                                          stratify=df['label'].values\n",
        "                                      )"
      ],
      "metadata": {
        "id": "fo09k_89gt_l"
      },
      "execution_count": null,
      "outputs": []
    },
    {
      "cell_type": "code",
      "source": [
        "print(len(text_train), len(text_test), len(label_train) , len(label_test))"
      ],
      "metadata": {
        "id": "vsHvFUdoM4DO"
      },
      "execution_count": null,
      "outputs": []
    },
    {
      "cell_type": "markdown",
      "source": [
        "### **TF-IDF**"
      ],
      "metadata": {
        "id": "XolgjSzd7l1p"
      }
    },
    {
      "cell_type": "code",
      "source": [
        "# Initialize the TF-IDF vectorizer and store it in a variable\n",
        "tfidf_vector = TfidfVectorizer()\n",
        "\n",
        "# Transform the training and testing sets\n",
        "tfidf_train = tfidf_vector.fit_transform(text_train)\n",
        "tfidf_test = tfidf_vector.transform(text_test)"
      ],
      "metadata": {
        "id": "8mw7WReCNpod"
      },
      "execution_count": null,
      "outputs": []
    },
    {
      "cell_type": "markdown",
      "source": [
        "## **Training**"
      ],
      "metadata": {
        "id": "n9M5OTTqH24b"
      }
    },
    {
      "cell_type": "code",
      "source": [
        "# train the Naïve Bayes (Multinomial) model\n",
        "naive_bayes = MultinomialNB()\n",
        "\n",
        "naive_bayes.fit(tfidf_train, label_train)"
      ],
      "metadata": {
        "id": "0EQDJFkmH7A5"
      },
      "execution_count": null,
      "outputs": []
    },
    {
      "cell_type": "markdown",
      "source": [
        "## **Testing**"
      ],
      "metadata": {
        "id": "iWsCAfi3H8Pe"
      }
    },
    {
      "cell_type": "code",
      "source": [
        "# test the Naïve Bayes (Multinomial) model\n",
        "tfidf_test_imdb = tfidf_vector.transform(df2['review'].values)\n",
        "\n",
        "predictions_imdb = naive_bayes.predict(tfidf_test_imdb)\n",
        "\n",
        "print('==============================================')\n",
        "print('\\nClassification Report\\n')\n",
        "print('==============================================')\n",
        "\n",
        "accuracy = accuracy_score(df2['label'].values, predictions_imdb)\n",
        "accuracy_perc = accuracy * 100\n",
        "\n",
        "print(f\"Accuracy on IMDb dataset: {accuracy_perc:.2f}%\")\n",
        "print('---------------------------\\n')\n",
        "\n",
        "# print(classification_report(label_test,predictions))\n",
        "print(classification_report(df2['label'], predictions_imdb, zero_division=1))"
      ],
      "metadata": {
        "id": "kwwIk73EH-TG"
      },
      "execution_count": null,
      "outputs": []
    },
    {
      "cell_type": "code",
      "source": [
        "df2.head(20)"
      ],
      "metadata": {
        "id": "Q8VvqYHkkqpl"
      },
      "execution_count": null,
      "outputs": []
    },
    {
      "cell_type": "markdown",
      "source": [
        "### **Confusion Matrix**"
      ],
      "metadata": {
        "id": "jVQz2-FEeGpp"
      }
    },
    {
      "cell_type": "code",
      "source": [
        "print(confusion_matrix(df2['label'], predictions_imdb))"
      ],
      "metadata": {
        "id": "ac4yrGGVedd3"
      },
      "execution_count": null,
      "outputs": []
    },
    {
      "cell_type": "code",
      "source": [
        "style.use('classic')\n",
        "cm = confusion_matrix(df2['label'], predictions_imdb)\n",
        "\n",
        "# Display confusion matrix\n",
        "display_cm = ConfusionMatrixDisplay(confusion_matrix=cm, display_labels=['positive', 'neutral', 'negative'])\n",
        "display_cm.plot(cmap='viridis', values_format='d')\n",
        "\n",
        "plt.title('Confusion Matrix')\n",
        "plt.show()"
      ],
      "metadata": {
        "id": "19Kbm-EDfp1J"
      },
      "execution_count": null,
      "outputs": []
    },
    {
      "cell_type": "markdown",
      "source": [
        "## **Error Analysis**"
      ],
      "metadata": {
        "id": "lquzU6DYkKQa"
      }
    },
    {
      "cell_type": "code",
      "source": [
        "# create an error analysis dataframe to\n",
        "# compare the model's predictions with the true labels\n",
        "error_analysis_df = pd.DataFrame({\n",
        "    'Review': df2['review'].values,\n",
        "    'True Label': df2['label'].values,\n",
        "    'Predicted Label': predictions_imdb\n",
        "})"
      ],
      "metadata": {
        "id": "A0baBQJZlrj9"
      },
      "execution_count": null,
      "outputs": []
    },
    {
      "cell_type": "code",
      "source": [
        "# identify misclassification\n",
        "misclassifications = error_analysis_df[error_analysis_df['True Label'] != error_analysis_df['Predicted Label']]"
      ],
      "metadata": {
        "id": "OK6o0lrJnmgh"
      },
      "execution_count": null,
      "outputs": []
    },
    {
      "cell_type": "code",
      "source": [
        "# display the first 10 misclassifications\n",
        "for index, row in misclassifications.head(10).iterrows():\n",
        "    print(f\"Review: {row['Review']}\")\n",
        "    print(f\"True Label: {row['True Label']}, Predicted Label: {row['Predicted Label']}\")\n",
        "    print('---')"
      ],
      "metadata": {
        "id": "SQRFfSxUn528"
      },
      "execution_count": null,
      "outputs": []
    },
    {
      "cell_type": "markdown",
      "source": [
        "## **Hyperparameter**"
      ],
      "metadata": {
        "id": "2hQ2dk8kr7fV"
      }
    },
    {
      "cell_type": "markdown",
      "source": [
        "### **Using GridSearchCV**"
      ],
      "metadata": {
        "id": "8CMbHB_Tr-lQ"
      }
    },
    {
      "cell_type": "code",
      "source": [
        "# define the hyperparameter grid\n",
        "parameter_grid ={\n",
        "    'alpha': [0.01, 0.1, 1, 10],\n",
        "    'fit_prior': [True, False]\n",
        "}"
      ],
      "metadata": {
        "id": "LFHE1eK7sCyQ"
      },
      "execution_count": null,
      "outputs": []
    },
    {
      "cell_type": "code",
      "source": [
        "grid = GridSearchCV(naive_bayes, parameter_grid, cv=5)\n",
        "grid.fit(tfidf_train, label_train)"
      ],
      "metadata": {
        "id": "hRH-ZkGrQPb6"
      },
      "execution_count": null,
      "outputs": []
    },
    {
      "cell_type": "code",
      "source": [
        "# Print the best hyperparameters\n",
        "print(\"Best Hyperparameters:\", grid.best_params_)\n",
        "\n",
        "# print how the model looks after hyper-parameter tuning\n",
        "print(\"Best Estimator:\", grid.best_estimator_)"
      ],
      "metadata": {
        "id": "f89YethTnlKd"
      },
      "execution_count": null,
      "outputs": []
    },
    {
      "cell_type": "code",
      "source": [
        "# Get the best Naïve Bayes model\n",
        "best_nb_model = grid.best_estimator_\n",
        "\n",
        "# Test the best SVM model\n",
        "tfidf_test_imdb = tfidf_vector.transform(df2['review'].values)\n",
        "predictions_imdb_best = best_nb_model.predict(tfidf_test_imdb)"
      ],
      "metadata": {
        "id": "5jai_QSAnnJV"
      },
      "execution_count": null,
      "outputs": []
    },
    {
      "cell_type": "code",
      "source": [
        "# Display the classification report and confusion matrix for the best model\n",
        "print('\\n==============================================')\n",
        "print('Classification Report for Best Model\\n')\n",
        "print('==============================================')\n",
        "\n",
        "accuracy = accuracy_score(df2['label'].values, predictions_imdb_best)\n",
        "accuracy_perc = accuracy * 100\n",
        "\n",
        "print(f\"Accuracy on IMDb dataset: {accuracy_perc:.2f}%\")\n",
        "print('---------------------------\\n')\n",
        "\n",
        "print(classification_report(df2['label'], predictions_imdb_best, zero_division=1))\n",
        "\n",
        "# Calculate confusion matrix for best model\n",
        "cm_best = confusion_matrix(df2['label'], predictions_imdb_best)\n",
        "\n",
        "# Display confusion matrix for best model\n",
        "display_cm_best = ConfusionMatrixDisplay(confusion_matrix=cm_best, display_labels=['positive', 'neutral', 'negative'])\n",
        "display_cm_best.plot(cmap='viridis', values_format='d')\n",
        "\n",
        "plt.title('Confusion Matrix for Best Model')\n",
        "plt.show()"
      ],
      "metadata": {
        "id": "SRf7cN_VnvXC"
      },
      "execution_count": null,
      "outputs": []
    }
  ]
}