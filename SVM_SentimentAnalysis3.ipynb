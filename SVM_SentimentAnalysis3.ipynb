{
  "cells": [
    {
      "cell_type": "markdown",
      "metadata": {
        "id": "view-in-github",
        "colab_type": "text"
      },
      "source": [
        "<a href=\"https://colab.research.google.com/github/OziomaEunice/Sentiment_GPT/blob/develop5/SVM_SentimentAnalysis3.ipynb\" target=\"_parent\"><img src=\"https://colab.research.google.com/assets/colab-badge.svg\" alt=\"Open In Colab\"/></a>"
      ]
    },
    {
      "cell_type": "markdown",
      "metadata": {
        "id": "NhJwKmymF1Nx"
      },
      "source": [
        "#**SVM for Sentiment Analysis**"
      ]
    },
    {
      "cell_type": "markdown",
      "metadata": {
        "id": "gdIcC3F8TqdI"
      },
      "source": [
        "### **Install and import libraries**"
      ]
    },
    {
      "cell_type": "code",
      "execution_count": null,
      "metadata": {
        "id": "Jew2jFBbGKkK"
      },
      "outputs": [],
      "source": [
        "# install the necessary libraries\n",
        "! pip install numpy\n",
        "! pip install pandas\n",
        "! pip install scikit-learn\n",
        "! pip install nltk\n",
        "! pip install openpyxl # for reading excel files"
      ]
    },
    {
      "cell_type": "code",
      "execution_count": null,
      "metadata": {
        "id": "UxHafIRVHaTI"
      },
      "outputs": [],
      "source": [
        "# import the necessary libraries\n",
        "import numpy as np\n",
        "import pandas as pd\n",
        "import nltk\n",
        "import re\n",
        "import seaborn as sns\n",
        "from wordcloud import WordCloud\n",
        "from sklearn.model_selection import train_test_split, GridSearchCV\n",
        "from sklearn.feature_extraction.text import TfidfVectorizer\n",
        "from sklearn.svm import SVC\n",
        "from sklearn.metrics import classification_report, accuracy_score, confusion_matrix, ConfusionMatrixDisplay\n",
        "import matplotlib.pyplot as plt\n",
        "from matplotlib import style\n",
        "style.use('ggplot')\n",
        "from nltk.corpus import stopwords\n",
        "from nltk.stem import WordNetLemmatizer\n",
        "from nltk.stem import PorterStemmer\n",
        "from nltk.tokenize import word_tokenize"
      ]
    },
    {
      "cell_type": "code",
      "execution_count": null,
      "metadata": {
        "id": "gFiSZ3wRxqhw"
      },
      "outputs": [],
      "source": [
        "# Download the stopwords dataset\n",
        "nltk.download('stopwords')\n",
        "\n",
        "# Download wordnet dataset\n",
        "nltk.download('wordnet')\n",
        "\n",
        "# Download punkt dataset\n",
        "nltk.download('punkt')\n",
        "\n",
        "# Get the set of English stop words\n",
        "stop_words = set(stopwords.words('english'))\n",
        "\n",
        "# Initialize the lemmatizer\n",
        "lemmatizer = WordNetLemmatizer()"
      ]
    },
    {
      "cell_type": "markdown",
      "metadata": {
        "id": "xq7Xuz-BTxer"
      },
      "source": [
        "### **Get Datasets**"
      ]
    },
    {
      "cell_type": "code",
      "execution_count": null,
      "metadata": {
        "id": "EVXMCStc8m8h"
      },
      "outputs": [],
      "source": [
        "# since dataset is imported to my Google Colab (which will remain in here temporary)\n",
        "# read excel file\n",
        "df = pd.read_excel('/content/Tweets.xlsx') # for Twitter dataset\n",
        "df2 = pd.read_excel('/content/IMDB_Dataset.xlsx') # for IMDb Movie Review dataset"
      ]
    },
    {
      "cell_type": "code",
      "execution_count": null,
      "metadata": {
        "id": "gLnpG0ql8eM7"
      },
      "outputs": [],
      "source": [
        "# check the number of rows and columns\n",
        "df.shape"
      ]
    },
    {
      "cell_type": "code",
      "execution_count": null,
      "metadata": {
        "id": "StdgsToy9W8R"
      },
      "outputs": [],
      "source": [
        "df2.shape"
      ]
    },
    {
      "cell_type": "code",
      "execution_count": null,
      "metadata": {
        "id": "vYbeW6TE-JId"
      },
      "outputs": [],
      "source": [
        "# show Twitter dataframe\n",
        "df.head(10)"
      ]
    },
    {
      "cell_type": "code",
      "execution_count": null,
      "metadata": {
        "id": "8hx5ixaSQK9w"
      },
      "outputs": [],
      "source": [
        "# show IMDb dataset\n",
        "df2.head(10)"
      ]
    },
    {
      "cell_type": "code",
      "execution_count": null,
      "metadata": {
        "id": "DXve6QwN4pEe"
      },
      "outputs": [],
      "source": [
        "# datatype info\n",
        "df.info()\n",
        "\n",
        "print('\\n***========================***\\n')\n",
        "\n",
        "df2.info()"
      ]
    },
    {
      "cell_type": "code",
      "execution_count": null,
      "metadata": {
        "id": "rV1JW432-6Yd"
      },
      "outputs": [],
      "source": [
        "# counting the number of missing values in the dataset\n",
        "df.isnull().sum()"
      ]
    },
    {
      "cell_type": "code",
      "execution_count": null,
      "metadata": {
        "id": "oSX2us3-_FP5"
      },
      "outputs": [],
      "source": [
        "df2.isnull().sum()"
      ]
    },
    {
      "cell_type": "markdown",
      "metadata": {
        "id": "eBKizd5WJgpq"
      },
      "source": [
        "### **Visualisation (before preprocessing)**"
      ]
    },
    {
      "cell_type": "markdown",
      "metadata": {
        "id": "zLSorqnhLIDp"
      },
      "source": [
        "#### **Twitter**"
      ]
    },
    {
      "cell_type": "code",
      "execution_count": null,
      "metadata": {
        "id": "iB9vNy4bZanH"
      },
      "outputs": [],
      "source": [
        "# Visualize sentiment distribution before preprocessing\n",
        "plt.figure(figsize=(10, 6))\n",
        "sns.countplot(x='airline_sentiment', data=df, palette=['#99FF99', '#3399FF', '#FF6666'])\n",
        "plt.title('Sentiment Distribution Twitter US Airline Dataset\\n (Before Preprocessing)')\n",
        "plt.xlabel('Sentiment')\n",
        "plt.ylabel('Count')\n",
        "plt.show()"
      ]
    },
    {
      "cell_type": "code",
      "execution_count": null,
      "metadata": {
        "id": "R_I_PrKPJwsg"
      },
      "outputs": [],
      "source": [
        "# Visualise sentiment in wordcloud\n",
        "def generate_wordcloud(text, title):\n",
        "    wordcloud = WordCloud(width = 800, height = 800,\n",
        "                background_color ='white',\n",
        "                stopwords = stop_words,\n",
        "                min_font_size = 10).generate(text)\n",
        "\n",
        "    # Plot the WordCloud image\n",
        "    plt.figure(figsize = (8, 8), facecolor = None)\n",
        "    plt.imshow(wordcloud)\n",
        "    plt.axis(\"off\")\n",
        "    plt.tight_layout(pad = 0)\n",
        "    plt.title(title)\n",
        "    plt.show()\n",
        "\n",
        "# Visualize word cloud before preprocessing for Twitter dataset\n",
        "generate_wordcloud(' '.join(df['text'].values), 'Twitter - Word Cloud (Before Preprocessing)')"
      ]
    },
    {
      "cell_type": "markdown",
      "metadata": {
        "id": "udzuC6tALLQr"
      },
      "source": [
        "#### **IMDb**"
      ]
    },
    {
      "cell_type": "code",
      "execution_count": null,
      "metadata": {
        "id": "m84IQCpELPpN"
      },
      "outputs": [],
      "source": [
        "# Visualize sentiment distribution before preprocessing\n",
        "plt.figure(figsize=(10, 6))\n",
        "sns.countplot(x='sentiment', data=df2, palette=['#3399FF', '#FF6666'])\n",
        "plt.title('Sentiment Distribution IMDb Movie Review Dataset\\n (Before Preprocessing)')\n",
        "plt.xlabel('Sentiment')\n",
        "plt.ylabel('Count')\n",
        "plt.show()"
      ]
    },
    {
      "cell_type": "code",
      "execution_count": null,
      "metadata": {
        "id": "156Y8qd1La4m"
      },
      "outputs": [],
      "source": [
        "# Visualize word cloud before preprocessing for IMDb dataset\n",
        "generate_wordcloud(' '.join(df2['review'].values), 'IMDb - Word Cloud (Before Preprocessing)')"
      ]
    },
    {
      "cell_type": "markdown",
      "metadata": {
        "id": "F9bukd715NPZ"
      },
      "source": [
        "## **Preprocessing Dataset**"
      ]
    },
    {
      "cell_type": "markdown",
      "metadata": {
        "id": "m6ioPx_mE_M3"
      },
      "source": [
        "### **Handling Missing Values**"
      ]
    },
    {
      "cell_type": "code",
      "execution_count": null,
      "metadata": {
        "id": "CZM37ihbBuCe"
      },
      "outputs": [],
      "source": [
        "# drop columns that are not needed for processing data\n",
        "# In this case, for the Twitter dataset\n",
        "df = df.drop(columns=['tweet_id', 'airline_sentiment_gold', 'negativereason', 'negativereason_confidence', 'negativereason_gold', 'retweet_count', 'tweet_coord', 'tweet_created', 'tweet_location', 'user_timezone'])"
      ]
    },
    {
      "cell_type": "code",
      "execution_count": null,
      "metadata": {
        "id": "wkhCVqpaDf3Y"
      },
      "outputs": [],
      "source": [
        "df.isnull().sum()"
      ]
    },
    {
      "cell_type": "code",
      "execution_count": null,
      "metadata": {
        "id": "tdBR_tQrDtIB"
      },
      "outputs": [],
      "source": [
        "df.head(10)"
      ]
    },
    {
      "cell_type": "markdown",
      "metadata": {
        "id": "qXFfrIucFGKt"
      },
      "source": [
        "### **Cleaning Dataset**"
      ]
    },
    {
      "cell_type": "code",
      "execution_count": null,
      "metadata": {
        "id": "fEBGU8jvQO1c"
      },
      "outputs": [],
      "source": [
        "# clean (preprocess) the Twitter dataset\n",
        "def cleanData1(text, min_word_length = 3):\n",
        "  text = text.lower()\n",
        "  text = re.sub(r'@[A-Za-z0-9]+', \"\", text) # this informs Python the the mentions in text must be substituted with an empty string\n",
        "  text = re.sub(r'#', \"\", text) # removing #\n",
        "  text = re.sub(r'RT[\\s]+', \"\", text) # removing retweets\n",
        "  text = re.sub(r'https?:\\/\\/\\S+', \"\", text) # removing links\n",
        "  text = ' '.join(word for word in text.split() if len(word) >= min_word_length and word not in stop_words) # Remove short words\n",
        "\n",
        "  punctuations = '@#!?+&*[]-%.:/();$=><|{}^' + \"'`\" + '_'\n",
        "  for p in punctuations:\n",
        "      text = text.replace(p,'') #Removing punctuations\n",
        "\n",
        "  # Lemmatize the words\n",
        "  words = nltk.word_tokenize(text)\n",
        "  lemmatized_words = [lemmatizer.lemmatize(word) for word in words]\n",
        "  text = ' '.join(lemmatized_words)\n",
        "\n",
        "  return text"
      ]
    },
    {
      "cell_type": "code",
      "execution_count": null,
      "metadata": {
        "id": "pjiVZ1RCROBK"
      },
      "outputs": [],
      "source": [
        "# clean (preprocess) the IMDb Movie Review dataset\n",
        "def cleanData2(review, min_word_length = 3):\n",
        "  review = review.lower()\n",
        "  review = re.sub(r'@[A-Za-z0-9]+', \"\", review) # this informs Python the the mentions in text must be substituted with an empty string\n",
        "  review = re.sub(r'#', \"\", review) # removing #\n",
        "  review = re.sub(r'RT[\\s]+', \"\", review) # removing retweets\n",
        "  review = re.sub(r'https?:\\/\\/\\S+', \"\", review) # removing links\n",
        "  review = ' '.join(word for word in review.split() if len(word) >= min_word_length and word not in stop_words) # Remove short words\n",
        "\n",
        "  punctuations = '@#!?+&*[]-%.:/();$=><|{}^' + \"'`\" + '_'\n",
        "  for p in punctuations:\n",
        "      review = review.replace(p,'') #Removing punctuations\n",
        "\n",
        "  # Lemmatize the words\n",
        "  words = nltk.word_tokenize(review)\n",
        "  lemmatized_words = [lemmatizer.lemmatize(word) for word in words]\n",
        "  review= ' '.join(lemmatized_words)\n",
        "\n",
        "  return review"
      ]
    },
    {
      "cell_type": "code",
      "execution_count": null,
      "metadata": {
        "id": "vzqiudGD7Xa0"
      },
      "outputs": [],
      "source": [
        "# df['text'] = df['text'].apply(cleanData)\n",
        "\n",
        "# Apply the cleanData function to all text columns in the dataframe\n",
        "df = df.applymap(lambda x: cleanData1(x) if isinstance(x, str) else x)"
      ]
    },
    {
      "cell_type": "code",
      "execution_count": null,
      "metadata": {
        "id": "FFCVY0f3MU5_"
      },
      "outputs": [],
      "source": [
        "df2 = df2.applymap(lambda x: cleanData2(x) if isinstance(x, str) else x)"
      ]
    },
    {
      "cell_type": "markdown",
      "metadata": {
        "id": "Sz-P__TvLkCN"
      },
      "source": [
        "### **Visualisation (after preprocessing)**"
      ]
    },
    {
      "cell_type": "markdown",
      "metadata": {
        "id": "-aFyv0gFLyf2"
      },
      "source": [
        "#### **Twitter**"
      ]
    },
    {
      "cell_type": "code",
      "execution_count": null,
      "metadata": {
        "id": "oX8gGiMqNM3c"
      },
      "outputs": [],
      "source": [
        "# Visualize sentiment distribution before preprocessing\n",
        "plt.figure(figsize=(10, 6))\n",
        "sns.countplot(x='airline_sentiment', data=df, palette=['#99FF99', '#3399FF', '#FF6666'])\n",
        "plt.title('Sentiment Distribution Twitter US Airline Dataset\\n (After Preprocessing)')\n",
        "plt.xlabel('Sentiment')\n",
        "plt.ylabel('Count')\n",
        "plt.show()"
      ]
    },
    {
      "cell_type": "code",
      "execution_count": null,
      "metadata": {
        "id": "02Z4_g0NL2eC"
      },
      "outputs": [],
      "source": [
        "# Visualize word cloud after preprocessing for Twitter dataset\n",
        "generate_wordcloud(' '.join(df['text'].values), 'Twitter - Word Cloud (After Preprocessing)')"
      ]
    },
    {
      "cell_type": "markdown",
      "metadata": {
        "id": "K2HJlcBeL60q"
      },
      "source": [
        "#### **IMDb**"
      ]
    },
    {
      "cell_type": "code",
      "execution_count": null,
      "metadata": {
        "id": "SwfjL22WM3TS"
      },
      "outputs": [],
      "source": [
        "# Visualize sentiment distribution after preprocessing\n",
        "plt.figure(figsize=(10, 6))\n",
        "sns.countplot(x='sentiment', data=df2, palette=['#3399FF', '#FF6666'])\n",
        "plt.title('Sentiment Distribution IMDb Movie Review Dataset\\n (After Preprocessing)')\n",
        "plt.xlabel('Sentiment')\n",
        "plt.ylabel('Count')\n",
        "plt.show()"
      ]
    },
    {
      "cell_type": "code",
      "execution_count": null,
      "metadata": {
        "id": "084JSuHLL8yX"
      },
      "outputs": [],
      "source": [
        "# Visualize word cloud after preprocessing for IMDb dataset\n",
        "generate_wordcloud(' '.join(df2['review'].values), 'IMDb - Word Cloud (After Preprocessing)')"
      ]
    },
    {
      "cell_type": "markdown",
      "metadata": {
        "id": "uuLGVwJ8Xjt_"
      },
      "source": [
        "### **Converting labels into integers or numeric values for ML**\n",
        "**The purpose of this conversion is so that machines can understand the labels, since they aren't able to understand text data**"
      ]
    },
    {
      "cell_type": "code",
      "execution_count": null,
      "metadata": {
        "id": "1VN2KDt3YAQx"
      },
      "outputs": [],
      "source": [
        "# create a new column called data and link the airline_sentiment to it\n",
        "# (this 'label' column will have numbers indicating 1, 0, -1\n",
        "# (positive, neutral, negative)\n",
        "df['label'] = df['airline_sentiment'].apply(lambda x: int(1) if str(x) == 'positive' else (0 if x == 'neutral' else -1))\n",
        "df2['label'] = df2['sentiment'].apply(lambda x: int(1) if x == 'positive' else (0 if x == 'neutral' else -1))"
      ]
    },
    {
      "cell_type": "code",
      "execution_count": null,
      "metadata": {
        "id": "foTdNCipZWfZ"
      },
      "outputs": [],
      "source": [
        "df[['airline_sentiment', 'text', 'label']].head(20)"
      ]
    },
    {
      "cell_type": "markdown",
      "metadata": {
        "id": "9srU43UzWKew"
      },
      "source": [
        "## **Feature Extraction: TF-IDF Vectorisation**"
      ]
    },
    {
      "cell_type": "markdown",
      "metadata": {
        "id": "OMM61MVHglV_"
      },
      "source": [
        "### **Split the Dataset into Training and Testing**"
      ]
    },
    {
      "cell_type": "code",
      "execution_count": null,
      "metadata": {
        "id": "fo09k_89gt_l"
      },
      "outputs": [],
      "source": [
        "text_train, text_test, label_train, label_test = train_test_split(\n",
        "    df['text'].values, df['label'].values, test_size = 0.5, random_state = 42, stratify=df['label'].values\n",
        ")"
      ]
    },
    {
      "cell_type": "code",
      "execution_count": null,
      "metadata": {
        "id": "vsHvFUdoM4DO"
      },
      "outputs": [],
      "source": [
        "print(len(text_train), len(text_test), len(label_train) , len(label_test))"
      ]
    },
    {
      "cell_type": "markdown",
      "metadata": {
        "id": "XolgjSzd7l1p"
      },
      "source": [
        "### **TF-IDF**"
      ]
    },
    {
      "cell_type": "code",
      "execution_count": null,
      "metadata": {
        "id": "8mw7WReCNpod"
      },
      "outputs": [],
      "source": [
        "# Initialize the TF-IDF vectorizer and store it in a variable\n",
        "tfidf_vector = TfidfVectorizer()\n",
        "\n",
        "# Transform the training and testing sets\n",
        "tfidf_train = tfidf_vector.fit_transform(text_train)\n",
        "tfidf_test = tfidf_vector.transform(text_test)"
      ]
    },
    {
      "cell_type": "markdown",
      "metadata": {
        "id": "IzG5yXblGA52"
      },
      "source": [
        "## **Training SVM**"
      ]
    },
    {
      "cell_type": "code",
      "execution_count": null,
      "metadata": {
        "id": "FsG3W5vNGYuv"
      },
      "outputs": [],
      "source": [
        "# train the SVM model\n",
        "svm = SVC(kernel='linear')\n",
        "\n",
        "svm.fit(tfidf_train, label_train)"
      ]
    },
    {
      "cell_type": "markdown",
      "metadata": {
        "id": "LBYL_hJoGLuI"
      },
      "source": [
        "## **Testing SVM**"
      ]
    },
    {
      "cell_type": "code",
      "source": [
        "# test the SVM model on Twitter dataset\n",
        "predictions_twitter = svm.predict(tfidf_test)\n",
        "\n",
        "print('==============================================')\n",
        "print('\\nClassification Report For Twitter Dataset\\n')\n",
        "print('==============================================')\n",
        "\n",
        "accuracy = accuracy_score(label_test, predictions_twitter)\n",
        "accuracy_perc = accuracy * 100\n",
        "\n",
        "print(f\"Accuracy on Twitter dataset: {accuracy_perc:.2f}%\")\n",
        "print('---------------------------\\n')\n",
        "\n",
        "# print(classification_report(label_test,predictions))\n",
        "print(classification_report(label_test, predictions_twitter, zero_division=1))"
      ],
      "metadata": {
        "id": "BWhRVH3HRSqI"
      },
      "execution_count": null,
      "outputs": []
    },
    {
      "cell_type": "code",
      "execution_count": null,
      "metadata": {
        "id": "YOcBU190GTRx"
      },
      "outputs": [],
      "source": [
        "# Test the SVM model on IMDb dataset\n",
        "tfidf_test_imdb = tfidf_vector.transform(df2['review'].values)\n",
        "\n",
        "predictions_imdb = svm.predict(tfidf_test_imdb)\n",
        "\n",
        "print('==============================================')\n",
        "print('\\nClassification Report\\n')\n",
        "print('==============================================')\n",
        "\n",
        "accuracy = accuracy_score(df2['label'].values, predictions_imdb)\n",
        "accuracy_perc = accuracy * 100\n",
        "\n",
        "print(f\"Accuracy on IMDb dataset: {accuracy_perc:.2f}%\")\n",
        "print('---------------------------\\n')\n",
        "\n",
        "# print(classification_report(label_test,predictions))\n",
        "print(classification_report(df2['label'], predictions_imdb, zero_division=1))"
      ]
    },
    {
      "cell_type": "code",
      "execution_count": null,
      "metadata": {
        "id": "gXzzZT_r-ZZi"
      },
      "outputs": [],
      "source": [
        "df2.head(10)"
      ]
    },
    {
      "cell_type": "markdown",
      "metadata": {
        "id": "jVQz2-FEeGpp"
      },
      "source": [
        "### **Confusion Matrix**"
      ]
    },
    {
      "cell_type": "code",
      "source": [
        "print(confusion_matrix(label_test, predictions_twitter))"
      ],
      "metadata": {
        "id": "GQuRzM2cRcI1"
      },
      "execution_count": null,
      "outputs": []
    },
    {
      "cell_type": "code",
      "execution_count": null,
      "metadata": {
        "id": "ac4yrGGVedd3"
      },
      "outputs": [],
      "source": [
        "print(confusion_matrix(df2['label'], predictions_imdb))"
      ]
    },
    {
      "cell_type": "code",
      "source": [
        "style.use('classic')\n",
        "cm = confusion_matrix(label_test, predictions_twitter)\n",
        "\n",
        "# Display confusion matrix for Twitter\n",
        "display_cm = ConfusionMatrixDisplay(confusion_matrix=cm, display_labels=['positive', 'neutral', 'negative'])\n",
        "display_cm.plot(cmap='viridis', values_format='d')\n",
        "\n",
        "plt.title('Confusion Matrix (Twitter)')\n",
        "plt.show()"
      ],
      "metadata": {
        "id": "sK3uDKzbRt1y"
      },
      "execution_count": null,
      "outputs": []
    },
    {
      "cell_type": "code",
      "execution_count": null,
      "metadata": {
        "id": "19Kbm-EDfp1J"
      },
      "outputs": [],
      "source": [
        "style.use('classic')\n",
        "cm = confusion_matrix(df2['label'], predictions_imdb)\n",
        "\n",
        "# Display confusion matrix\n",
        "display_cm = ConfusionMatrixDisplay(confusion_matrix=cm, display_labels=['positive', 'neutral', 'negative'])\n",
        "display_cm.plot(cmap='viridis', values_format='d')\n",
        "\n",
        "plt.title('Confusion Matrix')\n",
        "plt.show()"
      ]
    },
    {
      "cell_type": "markdown",
      "metadata": {
        "id": "lquzU6DYkKQa"
      },
      "source": [
        "## **Error Analysis**"
      ]
    },
    {
      "cell_type": "markdown",
      "source": [
        "#### **Twitter**"
      ],
      "metadata": {
        "id": "Ub0GUm-30rRJ"
      }
    },
    {
      "cell_type": "code",
      "source": [
        "# create an error analysis dataframe to\n",
        "# compare the model's predictions with the true labels\n",
        "error_analysis_df = pd.DataFrame({\n",
        "    'Review': text_test,\n",
        "    'True Label': label_test,\n",
        "    'Predicted Label': predictions_twitter\n",
        "})"
      ],
      "metadata": {
        "id": "hG_3TcHQ0zK2"
      },
      "execution_count": null,
      "outputs": []
    },
    {
      "cell_type": "code",
      "source": [
        "# identify misclassification\n",
        "misclassifications = error_analysis_df[error_analysis_df['True Label'] != error_analysis_df['Predicted Label']]"
      ],
      "metadata": {
        "id": "JnvQ84FV1Kvl"
      },
      "execution_count": null,
      "outputs": []
    },
    {
      "cell_type": "code",
      "source": [
        "# display the first 5 misclassifications\n",
        "for index, row in misclassifications.head(5).iterrows():\n",
        "    print(f\"Review: {row['Review']}\")\n",
        "    print(f\"True Label: {row['True Label']}, Predicted Label: {row['Predicted Label']}\")\n",
        "    print('---')"
      ],
      "metadata": {
        "id": "xBGunVRA1YVz"
      },
      "execution_count": null,
      "outputs": []
    },
    {
      "cell_type": "markdown",
      "source": [
        "#### **IMDb**"
      ],
      "metadata": {
        "id": "HjGcYV5C0nmT"
      }
    },
    {
      "cell_type": "code",
      "execution_count": null,
      "metadata": {
        "id": "A0baBQJZlrj9"
      },
      "outputs": [],
      "source": [
        "# create an error analysis dataframe to\n",
        "# compare the model's predictions with the true labels\n",
        "error_analysis_df = pd.DataFrame({\n",
        "    'Review': df2['review'].values,\n",
        "    'True Label': df2['label'].values,\n",
        "    'Predicted Label': predictions_imdb\n",
        "})"
      ]
    },
    {
      "cell_type": "code",
      "execution_count": null,
      "metadata": {
        "id": "OK6o0lrJnmgh"
      },
      "outputs": [],
      "source": [
        "# identify misclassification\n",
        "misclassifications = error_analysis_df[error_analysis_df['True Label'] != error_analysis_df['Predicted Label']]"
      ]
    },
    {
      "cell_type": "code",
      "execution_count": null,
      "metadata": {
        "id": "SQRFfSxUn528"
      },
      "outputs": [],
      "source": [
        "# display the first 5 misclassifications\n",
        "for index, row in misclassifications.head(5).iterrows():\n",
        "    print(f\"Review: {row['Review']}\")\n",
        "    print(f\"True Label: {row['True Label']}, Predicted Label: {row['Predicted Label']}\")\n",
        "    print('---')"
      ]
    },
    {
      "cell_type": "markdown",
      "metadata": {
        "id": "2hQ2dk8kr7fV"
      },
      "source": [
        "## **Hyperparameter**"
      ]
    },
    {
      "cell_type": "markdown",
      "metadata": {
        "id": "8CMbHB_Tr-lQ"
      },
      "source": [
        "### **Using GridSearchCV**"
      ]
    },
    {
      "cell_type": "code",
      "execution_count": null,
      "metadata": {
        "id": "LFHE1eK7sCyQ"
      },
      "outputs": [],
      "source": [
        "# define the hyperparameter grid\n",
        "parameter_grid ={\n",
        "    'C': [0.01, 0.1, 1, 10],\n",
        "    'kernel': ['linear', 'rbf', 'sigmoid', 'poly'],\n",
        "    'gamma': [0.01, 1]\n",
        "}"
      ]
    },
    {
      "cell_type": "code",
      "execution_count": null,
      "metadata": {
        "id": "EqS_juZPPTpZ"
      },
      "outputs": [],
      "source": [
        "grid = GridSearchCV(svm, parameter_grid, cv=5)\n",
        "grid.fit(tfidf_train, label_train)"
      ]
    },
    {
      "cell_type": "code",
      "execution_count": null,
      "metadata": {
        "id": "nFdm3moZQNN1"
      },
      "outputs": [],
      "source": [
        "# Print the best hyperparameters\n",
        "print(\"Best Hyperparameters:\", grid.best_params_)\n",
        "\n",
        "# print how the model looks after hyper-parameter tuning\n",
        "print(\"Best Estimator:\", grid.best_estimator_)"
      ]
    },
    {
      "cell_type": "code",
      "execution_count": null,
      "metadata": {
        "id": "QNcByRVEQpTZ"
      },
      "outputs": [],
      "source": [
        "# Get the best SVM model\n",
        "best_svm_model = grid.best_estimator_\n",
        "\n",
        "# Test the best SVM model\n",
        "# Twitter\n",
        "tfidf_test = tfidf_vector.transform(text_test)\n",
        "predictions_twitter_best = best_svm_model.predict(tfidf_test)\n",
        "# IMDb\n",
        "tfidf_test_imdb = tfidf_vector.transform(df2['review'].values)\n",
        "predictions_imdb_best = best_svm_model.predict(tfidf_test_imdb)"
      ]
    },
    {
      "cell_type": "code",
      "source": [
        "# Display the classification report and confusion matrix for the best model for Twitter\n",
        "print('\\n==============================================')\n",
        "print('Classification Report for Best Model For Twitter Dataset\\n')\n",
        "print('==============================================')\n",
        "\n",
        "accuracy = accuracy_score(label_test, predictions_twitter_best)\n",
        "accuracy_perc = accuracy * 100\n",
        "\n",
        "print(f\"Accuracy on Twitter dataset: {accuracy_perc:.2f}%\")\n",
        "print('---------------------------\\n')\n",
        "\n",
        "print(classification_report(label_test, predictions_twitter_best, zero_division=1))\n",
        "\n",
        "# Calculate confusion matrix for best model\n",
        "cm_best = confusion_matrix(label_test, predictions_twitter_best)\n",
        "\n",
        "# Display confusion matrix for best model\n",
        "display_cm_best = ConfusionMatrixDisplay(confusion_matrix=cm_best, display_labels=['positive', 'neutral', 'negative'])\n",
        "display_cm_best.plot(cmap='viridis', values_format='d')\n",
        "\n",
        "plt.title('Confusion Matrix for Best Model (Twitter)')\n",
        "plt.show()"
      ],
      "metadata": {
        "id": "SRf7cN_VnvXC"
      },
      "execution_count": null,
      "outputs": []
    },
    {
      "cell_type": "code",
      "execution_count": null,
      "metadata": {
        "id": "7qRbcZoBQ-yN"
      },
      "outputs": [],
      "source": [
        "# Display the classification report and confusion matrix for the best model for IMDb\n",
        "print('\\n==============================================')\n",
        "print('Classification Report for Best Model For IMDb Dataset\\n')\n",
        "print('==============================================')\n",
        "\n",
        "accuracy = accuracy_score(df2['label'].values, predictions_imdb_best)\n",
        "accuracy_perc = accuracy * 100\n",
        "\n",
        "print(f\"Accuracy on IMDb dataset: {accuracy_perc:.2f}%\")\n",
        "print('---------------------------\\n')\n",
        "\n",
        "print(classification_report(df2['label'], predictions_imdb_best, zero_division=1))\n",
        "\n",
        "# Calculate confusion matrix for best model\n",
        "cm_best = confusion_matrix(df2['label'], predictions_imdb_best)\n",
        "\n",
        "# Display confusion matrix for best model\n",
        "display_cm_best = ConfusionMatrixDisplay(confusion_matrix=cm_best, display_labels=['positive', 'neutral', 'negative'])\n",
        "display_cm_best.plot(cmap='viridis', values_format='d')\n",
        "\n",
        "plt.title('Confusion Matrix for Best Model (IMDb)')\n",
        "plt.show()"
      ]
    }
  ],
  "metadata": {
    "accelerator": "GPU",
    "colab": {
      "gpuType": "V100",
      "machine_shape": "hm",
      "provenance": [],
      "authorship_tag": "ABX9TyN4N/wWG+DE7sLeg3SQbgQk",
      "include_colab_link": true
    },
    "kernelspec": {
      "display_name": "Python 3",
      "name": "python3"
    },
    "language_info": {
      "name": "python"
    }
  },
  "nbformat": 4,
  "nbformat_minor": 0
}