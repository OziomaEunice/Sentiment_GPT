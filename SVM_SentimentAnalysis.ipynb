{
  "nbformat": 4,
  "nbformat_minor": 0,
  "metadata": {
    "colab": {
      "provenance": [],
      "gpuType": "T4",
      "authorship_tag": "ABX9TyMD9Ffw9l7zwp8tF9PsyRrN",
      "include_colab_link": true
    },
    "kernelspec": {
      "name": "python3",
      "display_name": "Python 3"
    },
    "language_info": {
      "name": "python"
    },
    "accelerator": "GPU"
  },
  "cells": [
    {
      "cell_type": "markdown",
      "metadata": {
        "id": "view-in-github",
        "colab_type": "text"
      },
      "source": [
        "<a href=\"https://colab.research.google.com/github/OziomaEunice/Sentiment_GPT/blob/develop/SVM_SentimentAnalysis.ipynb\" target=\"_parent\"><img src=\"https://colab.research.google.com/assets/colab-badge.svg\" alt=\"Open In Colab\"/></a>"
      ]
    },
    {
      "cell_type": "markdown",
      "source": [
        "#**SVM for Sentiment Analysis**"
      ],
      "metadata": {
        "id": "NhJwKmymF1Nx"
      }
    },
    {
      "cell_type": "markdown",
      "source": [
        "### **Install and import libraries**"
      ],
      "metadata": {
        "id": "gdIcC3F8TqdI"
      }
    },
    {
      "cell_type": "code",
      "source": [
        "# install the necessary libraries\n",
        "! pip install numpy\n",
        "! pip install pandas\n",
        "! pip install scikit-learn\n",
        "! pip install nltk\n",
        "! pip install openpyxl # for reading excel files"
      ],
      "metadata": {
        "id": "Jew2jFBbGKkK"
      },
      "execution_count": null,
      "outputs": []
    },
    {
      "cell_type": "code",
      "source": [
        "# import the necessary libraries\n",
        "import numpy as np\n",
        "import pandas as pd\n",
        "import nltk\n",
        "import re\n",
        "import seaborn as sns\n",
        "from wordcloud import WordCloud\n",
        "from sklearn.model_selection import train_test_split, GridSearchCV\n",
        "from sklearn.feature_extraction.text import TfidfVectorizer\n",
        "from sklearn.svm import SVC\n",
        "from sklearn.metrics import classification_report, accuracy_score, confusion_matrix, ConfusionMatrixDisplay\n",
        "import matplotlib.pyplot as plt\n",
        "from matplotlib import style\n",
        "style.use('ggplot')\n",
        "from nltk.corpus import stopwords\n",
        "from nltk.stem import WordNetLemmatizer\n",
        "from nltk.stem import PorterStemmer\n",
        "from nltk.tokenize import word_tokenize"
      ],
      "metadata": {
        "id": "UxHafIRVHaTI"
      },
      "execution_count": null,
      "outputs": []
    },
    {
      "cell_type": "code",
      "source": [
        "# Download the stopwords dataset\n",
        "nltk.download('stopwords')\n",
        "\n",
        "# Download wordnet dataset\n",
        "nltk.download('wordnet')\n",
        "\n",
        "# Download punkt dataset\n",
        "nltk.download('punkt')\n",
        "\n",
        "# Get the set of English stop words\n",
        "stop_words = set(stopwords.words('english'))\n",
        "\n",
        "# Initialize the lemmatizer\n",
        "lemmatizer = WordNetLemmatizer()"
      ],
      "metadata": {
        "id": "gFiSZ3wRxqhw"
      },
      "execution_count": null,
      "outputs": []
    },
    {
      "cell_type": "markdown",
      "source": [
        "### **Get Datasets**"
      ],
      "metadata": {
        "id": "xq7Xuz-BTxer"
      }
    },
    {
      "cell_type": "code",
      "source": [
        "# since dataset is imported to my Google Colab (which will remain in here temporary)\n",
        "# read excel file\n",
        "df = pd.read_excel('/content/Tweets.xlsx') # for Twitter dataset\n",
        "df2 = pd.read_excel('/content/IMDB_Dataset.xlsx') # for IMDb Movie Review dataset"
      ],
      "metadata": {
        "id": "EVXMCStc8m8h"
      },
      "execution_count": null,
      "outputs": []
    },
    {
      "cell_type": "code",
      "source": [
        "# check the number of rows and columns\n",
        "df.shape"
      ],
      "metadata": {
        "id": "gLnpG0ql8eM7"
      },
      "execution_count": null,
      "outputs": []
    },
    {
      "cell_type": "code",
      "source": [
        "df2.shape"
      ],
      "metadata": {
        "id": "StdgsToy9W8R"
      },
      "execution_count": null,
      "outputs": []
    },
    {
      "cell_type": "code",
      "source": [
        "# show Twitter dataframe\n",
        "df.head(10)"
      ],
      "metadata": {
        "id": "vYbeW6TE-JId"
      },
      "execution_count": null,
      "outputs": []
    },
    {
      "cell_type": "code",
      "source": [
        "# show IMDb dataset\n",
        "df2.head(10)"
      ],
      "metadata": {
        "id": "8hx5ixaSQK9w"
      },
      "execution_count": null,
      "outputs": []
    },
    {
      "cell_type": "code",
      "source": [
        "# datatype info\n",
        "df.info()\n",
        "\n",
        "print('\\n***========================***\\n')\n",
        "\n",
        "df2.info()"
      ],
      "metadata": {
        "id": "DXve6QwN4pEe"
      },
      "execution_count": null,
      "outputs": []
    },
    {
      "cell_type": "code",
      "source": [
        "# counting the number of missing values in the dataset\n",
        "df.isnull().sum()"
      ],
      "metadata": {
        "id": "rV1JW432-6Yd"
      },
      "execution_count": null,
      "outputs": []
    },
    {
      "cell_type": "code",
      "source": [
        "df2.isnull().sum()"
      ],
      "metadata": {
        "id": "oSX2us3-_FP5"
      },
      "execution_count": null,
      "outputs": []
    },
    {
      "cell_type": "markdown",
      "source": [
        "### **Visualisation (before preprocessing)**"
      ],
      "metadata": {
        "id": "eBKizd5WJgpq"
      }
    },
    {
      "cell_type": "markdown",
      "source": [
        "#### **Twitter**"
      ],
      "metadata": {
        "id": "zLSorqnhLIDp"
      }
    },
    {
      "cell_type": "code",
      "source": [
        "# Visualize sentiment distribution before preprocessing\n",
        "plt.figure(figsize=(10, 6))\n",
        "sns.countplot(x='airline_sentiment', data=df)\n",
        "plt.title('Sentiment Distribution Twitter US Airline Dataset')\n",
        "plt.xlabel('Sentiment')\n",
        "plt.ylabel('Count')\n",
        "plt.show()"
      ],
      "metadata": {
        "id": "iB9vNy4bZanH"
      },
      "execution_count": null,
      "outputs": []
    },
    {
      "cell_type": "code",
      "source": [
        "# Visualise sentiment in wordcloud\n",
        "def generate_wordcloud(text, title):\n",
        "    wordcloud = WordCloud(width = 800, height = 800,\n",
        "                background_color ='white',\n",
        "                stopwords = stop_words,\n",
        "                min_font_size = 10).generate(text)\n",
        "\n",
        "    # Plot the WordCloud image\n",
        "    plt.figure(figsize = (8, 8), facecolor = None)\n",
        "    plt.imshow(wordcloud)\n",
        "    plt.axis(\"off\")\n",
        "    plt.tight_layout(pad = 0)\n",
        "    plt.title(title)\n",
        "    plt.show()\n",
        "\n",
        "# Visualize word cloud before preprocessing for Twitter dataset\n",
        "generate_wordcloud(' '.join(df['text'].values), 'Word Cloud Before Preprocessing (Twitter)')"
      ],
      "metadata": {
        "id": "R_I_PrKPJwsg"
      },
      "execution_count": null,
      "outputs": []
    },
    {
      "cell_type": "markdown",
      "source": [
        "#### **IMDb**"
      ],
      "metadata": {
        "id": "udzuC6tALLQr"
      }
    },
    {
      "cell_type": "code",
      "source": [
        "# Visualize sentiment distribution before preprocessing\n",
        "plt.figure(figsize=(10, 6))\n",
        "sns.countplot(x='sentiment', data=df2)\n",
        "plt.title('Sentiment Distribution IMDb Movie Review Dataset')\n",
        "plt.xlabel('Sentiment')\n",
        "plt.ylabel('Count')\n",
        "plt.show()"
      ],
      "metadata": {
        "id": "m84IQCpELPpN"
      },
      "execution_count": null,
      "outputs": []
    },
    {
      "cell_type": "code",
      "source": [
        "# Visualize word cloud before preprocessing for IMDb dataset\n",
        "generate_wordcloud(' '.join(df2['review'].values), 'Word Cloud Before Preprocessing (IMDb)')"
      ],
      "metadata": {
        "id": "156Y8qd1La4m"
      },
      "execution_count": null,
      "outputs": []
    },
    {
      "cell_type": "markdown",
      "source": [
        "## **Preprocessing Dataset**"
      ],
      "metadata": {
        "id": "F9bukd715NPZ"
      }
    },
    {
      "cell_type": "markdown",
      "source": [
        "### **Handling Missing Values**"
      ],
      "metadata": {
        "id": "m6ioPx_mE_M3"
      }
    },
    {
      "cell_type": "code",
      "source": [
        "# drop columns that are not needed for processing data\n",
        "# In this case, for the Twitter dataset\n",
        "df = df.drop(columns=['tweet_id', 'airline_sentiment_gold', 'negativereason', 'negativereason_confidence', 'negativereason_gold', 'retweet_count', 'tweet_coord', 'tweet_created', 'tweet_location', 'user_timezone'])"
      ],
      "metadata": {
        "id": "CZM37ihbBuCe"
      },
      "execution_count": null,
      "outputs": []
    },
    {
      "cell_type": "code",
      "source": [
        "df.isnull().sum()"
      ],
      "metadata": {
        "id": "wkhCVqpaDf3Y"
      },
      "execution_count": null,
      "outputs": []
    },
    {
      "cell_type": "code",
      "source": [
        "df.head(10)"
      ],
      "metadata": {
        "id": "tdBR_tQrDtIB"
      },
      "execution_count": null,
      "outputs": []
    },
    {
      "cell_type": "markdown",
      "source": [
        "### **Cleaning Dataset**"
      ],
      "metadata": {
        "id": "qXFfrIucFGKt"
      }
    },
    {
      "cell_type": "code",
      "source": [
        "# clean (preprocess) the Twitter dataset\n",
        "def cleanData1(text, min_word_length = 3):\n",
        "  text = text.lower()\n",
        "  text = re.sub(r'@[A-Za-z0-9]+', \"\", text) # this informs Python the the mentions in text must be substituted with an empty string\n",
        "  text = re.sub(r'#', \"\", text) # removing #\n",
        "  text = re.sub(r'RT[\\s]+', \"\", text) # removing retweets\n",
        "  text = re.sub(r'https?:\\/\\/\\S+', \"\", text) # removing links\n",
        "  text = ' '.join(word for word in text.split() if len(word) >= min_word_length and word not in stop_words) # Remove short words\n",
        "\n",
        "  punctuations = '@#!?+&*[]-%.:/();$=><|{}^' + \"'`\" + '_'\n",
        "  for p in punctuations:\n",
        "      text = text.replace(p,'') #Removing punctuations\n",
        "\n",
        "  # Lemmatize the words\n",
        "  words = nltk.word_tokenize(text)\n",
        "  lemmatized_words = [lemmatizer.lemmatize(word) for word in words]\n",
        "  text = ' '.join(lemmatized_words)\n",
        "\n",
        "  return text"
      ],
      "metadata": {
        "id": "fEBGU8jvQO1c"
      },
      "execution_count": null,
      "outputs": []
    },
    {
      "cell_type": "code",
      "source": [
        "# clean (preprocess) the IMDb Movie Review dataset\n",
        "def cleanData2(review, min_word_length = 3):\n",
        "  review = review.lower()\n",
        "  review = re.sub(r'@[A-Za-z0-9]+', \"\", review) # this informs Python the the mentions in text must be substituted with an empty string\n",
        "  review = re.sub(r'#', \"\", review) # removing #\n",
        "  review = re.sub(r'RT[\\s]+', \"\", review) # removing retweets\n",
        "  review = re.sub(r'https?:\\/\\/\\S+', \"\", review) # removing links\n",
        "  review = ' '.join(word for word in review.split() if len(word) >= min_word_length and word not in stop_words) # Remove short words\n",
        "\n",
        "  punctuations = '@#!?+&*[]-%.:/();$=><|{}^' + \"'`\" + '_'\n",
        "  for p in punctuations:\n",
        "      review = review.replace(p,'') #Removing punctuations\n",
        "\n",
        "  # Lemmatize the words\n",
        "  words = nltk.word_tokenize(review)\n",
        "  lemmatized_words = [lemmatizer.lemmatize(word) for word in words]\n",
        "  review= ' '.join(lemmatized_words)\n",
        "\n",
        "  return review"
      ],
      "metadata": {
        "id": "pjiVZ1RCROBK"
      },
      "execution_count": null,
      "outputs": []
    },
    {
      "cell_type": "code",
      "source": [
        "# df['text'] = df['text'].apply(cleanData)\n",
        "\n",
        "# Apply the cleanData function to all text columns in the dataframe\n",
        "df = df.applymap(lambda x: cleanData1(x) if isinstance(x, str) else x)"
      ],
      "metadata": {
        "id": "vzqiudGD7Xa0"
      },
      "execution_count": null,
      "outputs": []
    },
    {
      "cell_type": "code",
      "source": [
        "df2 = df2.applymap(lambda x: cleanData2(x) if isinstance(x, str) else x)"
      ],
      "metadata": {
        "id": "FFCVY0f3MU5_"
      },
      "execution_count": null,
      "outputs": []
    },
    {
      "cell_type": "markdown",
      "source": [
        "### **Visualisation (after preprocessing)**"
      ],
      "metadata": {
        "id": "Sz-P__TvLkCN"
      }
    },
    {
      "cell_type": "markdown",
      "source": [
        "#### **Twitter**"
      ],
      "metadata": {
        "id": "-aFyv0gFLyf2"
      }
    },
    {
      "cell_type": "code",
      "source": [
        "# Visualize sentiment distribution before preprocessing\n",
        "plt.figure(figsize=(10, 6))\n",
        "sns.countplot(x='airline_sentiment', data=df)\n",
        "plt.title('Sentiment Distribution Twitter US Airline Dataset')\n",
        "plt.xlabel('Sentiment')\n",
        "plt.ylabel('Count')\n",
        "plt.show()"
      ],
      "metadata": {
        "id": "oX8gGiMqNM3c"
      },
      "execution_count": null,
      "outputs": []
    },
    {
      "cell_type": "code",
      "source": [
        "# Visualize word cloud after preprocessing for Twitter dataset\n",
        "generate_wordcloud(' '.join(df['text'].values), 'Word Cloud After Preprocessing (Twitter)')"
      ],
      "metadata": {
        "id": "02Z4_g0NL2eC"
      },
      "execution_count": null,
      "outputs": []
    },
    {
      "cell_type": "markdown",
      "source": [
        "#### **IMDb**"
      ],
      "metadata": {
        "id": "K2HJlcBeL60q"
      }
    },
    {
      "cell_type": "code",
      "source": [
        "# Visualize sentiment distribution after preprocessing\n",
        "plt.figure(figsize=(10, 6))\n",
        "sns.countplot(x='sentiment', data=df2)\n",
        "plt.title('Sentiment Distribution IMDb Movie Review Dataset')\n",
        "plt.xlabel('Sentiment')\n",
        "plt.ylabel('Count')\n",
        "plt.show()"
      ],
      "metadata": {
        "id": "SwfjL22WM3TS"
      },
      "execution_count": null,
      "outputs": []
    },
    {
      "cell_type": "code",
      "source": [
        "# Visualize word cloud after preprocessing for IMDb dataset\n",
        "generate_wordcloud(' '.join(df2['review'].values), 'Word Cloud After Preprocessing (IMDb)')"
      ],
      "metadata": {
        "id": "084JSuHLL8yX"
      },
      "execution_count": null,
      "outputs": []
    },
    {
      "cell_type": "markdown",
      "source": [
        "### **Converting labels into integers or numeric values for ML**\n",
        "**The purpose of this conversion is so that machines can understand the labels, since they aren't able to understand text data**"
      ],
      "metadata": {
        "id": "uuLGVwJ8Xjt_"
      }
    },
    {
      "cell_type": "code",
      "source": [
        "# create a new column called data and link the airline_sentiment to it\n",
        "# (this 'label' column will have numbers indicating 1, 0, -1\n",
        "# (positive, neutral, negative)\n",
        "df['label'] = df['airline_sentiment'].apply(lambda x: int(1) if str(x) == 'positive' else (0 if x == 'neutral' else -1))\n",
        "df2['label'] = df2['sentiment'].apply(lambda x: int(1) if x == 'positive' else (0 if x == 'neutral' else -1))"
      ],
      "metadata": {
        "id": "1VN2KDt3YAQx"
      },
      "execution_count": null,
      "outputs": []
    },
    {
      "cell_type": "code",
      "source": [
        "df[['airline_sentiment', 'text', 'label']].head(20)"
      ],
      "metadata": {
        "id": "foTdNCipZWfZ"
      },
      "execution_count": null,
      "outputs": []
    },
    {
      "cell_type": "markdown",
      "source": [
        "## **Feature Extraction: TF-IDF Vectorisation**"
      ],
      "metadata": {
        "id": "9srU43UzWKew"
      }
    },
    {
      "cell_type": "markdown",
      "source": [
        "### **Split the Dataset into Training and Testing**"
      ],
      "metadata": {
        "id": "OMM61MVHglV_"
      }
    },
    {
      "cell_type": "code",
      "source": [
        "text_train, text_test, label_train, label_test = train_test_split(\n",
        "    df['text'].values, df['label'].values, test_size = 0.2, random_state = 42, stratify=df['label'].values\n",
        ")"
      ],
      "metadata": {
        "id": "fo09k_89gt_l"
      },
      "execution_count": null,
      "outputs": []
    },
    {
      "cell_type": "code",
      "source": [
        "print(len(text_train), len(text_test), len(label_train) , len(label_test))"
      ],
      "metadata": {
        "id": "vsHvFUdoM4DO"
      },
      "execution_count": null,
      "outputs": []
    },
    {
      "cell_type": "markdown",
      "source": [
        "### **TF-IDF**"
      ],
      "metadata": {
        "id": "XolgjSzd7l1p"
      }
    },
    {
      "cell_type": "code",
      "source": [
        "# # initialise the tf-idf vectoriser (or model) and store it in a variable\n",
        "# tfidf_vector = TfidfVectorizer()\n",
        "\n",
        "# # Fit and transform the entire dataset\n",
        "# tfidf_matrix = tfidf_vector.fit_transform(df['text'])\n",
        "\n",
        "# # Display the TF-IDF vocabulary\n",
        "# print(\"Vocabulary:\", tfidf_vector.vocabulary_)\n",
        "\n",
        "# # Place the TF-IDF matrix into a DataFrame\n",
        "# tfidf_df = pd.DataFrame(tfidf_matrix.todense(), columns=sorted(tfidf_vector.vocabulary_))\n",
        "\n",
        "# # Display the TF-IDF DataFrame\n",
        "# print(tfidf_df)\n",
        "\n",
        "# # Transform the training and testing sets\n",
        "# tfidf_train = tfidf_vector.transform(text_train)\n",
        "# # tfidf_test = tfidf_vector.transform(text_test)\n",
        "# tfidf_test = tfidf_vector.transform(df2['review'].values)"
      ],
      "metadata": {
        "id": "Zajbrb93WQiR"
      },
      "execution_count": null,
      "outputs": []
    },
    {
      "cell_type": "code",
      "source": [
        "# Initialize the TF-IDF vectorizer and store it in a variable\n",
        "tfidf_vector = TfidfVectorizer()\n",
        "\n",
        "# Transform the training and testing sets\n",
        "tfidf_train = tfidf_vector.fit_transform(text_train)\n",
        "tfidf_test = tfidf_vector.transform(text_test)"
      ],
      "metadata": {
        "id": "8mw7WReCNpod"
      },
      "execution_count": null,
      "outputs": []
    },
    {
      "cell_type": "markdown",
      "source": [
        "## **Training SVM**"
      ],
      "metadata": {
        "id": "IzG5yXblGA52"
      }
    },
    {
      "cell_type": "code",
      "source": [
        "# train the SVM model\n",
        "svm = SVC(kernel='linear')\n",
        "\n",
        "svm.fit(tfidf_train, label_train)"
      ],
      "metadata": {
        "id": "FsG3W5vNGYuv"
      },
      "execution_count": null,
      "outputs": []
    },
    {
      "cell_type": "markdown",
      "source": [
        "## **Testing SVM**"
      ],
      "metadata": {
        "id": "LBYL_hJoGLuI"
      }
    },
    {
      "cell_type": "code",
      "source": [
        "# Test the SVM model\n",
        "tfidf_test_imdb = tfidf_vector.transform(df2['review'].values)\n",
        "\n",
        "predictions_imdb = svm.predict(tfidf_test_imdb)\n",
        "\n",
        "print('==============================================')\n",
        "print('\\nClassification Report\\n')\n",
        "print('==============================================')\n",
        "\n",
        "accuracy = accuracy_score(df2['label'].values, predictions_imdb)\n",
        "accuracy_perc = accuracy * 100\n",
        "\n",
        "print(f\"Accuracy on IMDb dataset: {accuracy_perc:.2f}%\")\n",
        "print('---------------------------\\n')\n",
        "\n",
        "# print(classification_report(label_test,predictions))\n",
        "print(classification_report(df2['label'], predictions_imdb, zero_division=1))"
      ],
      "metadata": {
        "id": "YOcBU190GTRx"
      },
      "execution_count": null,
      "outputs": []
    },
    {
      "cell_type": "code",
      "source": [
        "df2.head(20)"
      ],
      "metadata": {
        "id": "gXzzZT_r-ZZi"
      },
      "execution_count": null,
      "outputs": []
    },
    {
      "cell_type": "markdown",
      "source": [
        "### **Confusion Matrix**"
      ],
      "metadata": {
        "id": "jVQz2-FEeGpp"
      }
    },
    {
      "cell_type": "code",
      "source": [
        "print(confusion_matrix(df2['label'], predictions_imdb))"
      ],
      "metadata": {
        "id": "ac4yrGGVedd3"
      },
      "execution_count": null,
      "outputs": []
    },
    {
      "cell_type": "code",
      "source": [
        "style.use('classic')\n",
        "cm = confusion_matrix(df2['label'], predictions_imdb)\n",
        "\n",
        "# Display confusion matrix\n",
        "display_cm = ConfusionMatrixDisplay(confusion_matrix=cm, display_labels=['positive', 'neutral', 'negative'])\n",
        "display_cm.plot(cmap='viridis', values_format='d')\n",
        "\n",
        "plt.title('Confusion Matrix')\n",
        "plt.show()"
      ],
      "metadata": {
        "id": "19Kbm-EDfp1J"
      },
      "execution_count": null,
      "outputs": []
    },
    {
      "cell_type": "markdown",
      "source": [
        "## **Error Analysis**"
      ],
      "metadata": {
        "id": "lquzU6DYkKQa"
      }
    },
    {
      "cell_type": "code",
      "source": [],
      "metadata": {
        "id": "A0baBQJZlrj9"
      },
      "execution_count": null,
      "outputs": []
    },
    {
      "cell_type": "markdown",
      "source": [
        "## **Hyperparameter**"
      ],
      "metadata": {
        "id": "2hQ2dk8kr7fV"
      }
    },
    {
      "cell_type": "markdown",
      "source": [
        "### **Using GridSearchCV**"
      ],
      "metadata": {
        "id": "8CMbHB_Tr-lQ"
      }
    },
    {
      "cell_type": "code",
      "source": [
        "# define the hyperparameter grid\n",
        "# parameter_grid ={\n",
        "#     'C': [0.01, 0.1, 1, 10],\n",
        "#     'kernel': ['linear', 'rbf'],\n",
        "#     'gamma': [0.01, 1]\n",
        "# }"
      ],
      "metadata": {
        "id": "LFHE1eK7sCyQ"
      },
      "execution_count": null,
      "outputs": []
    },
    {
      "cell_type": "code",
      "source": [
        "# grid = GridSearchCV(svm, parameter_grid, cv=5)\n",
        "# grid.fit(tfidf_train, label_train)"
      ],
      "metadata": {
        "id": "EqS_juZPPTpZ"
      },
      "execution_count": null,
      "outputs": []
    },
    {
      "cell_type": "code",
      "source": [
        "# Print the best hyperparameters\n",
        "# print(\"Best Hyperparameters:\", grid.best_params_)"
      ],
      "metadata": {
        "id": "nFdm3moZQNN1"
      },
      "execution_count": null,
      "outputs": []
    },
    {
      "cell_type": "code",
      "source": [
        "# Get the best SVM model\n",
        "# best_svm_model = grid.best_estimator_\n",
        "\n",
        "# Test the best SVM model\n",
        "# predictions_imdb_best = best_svm_model.predict(tfidf_test)"
      ],
      "metadata": {
        "id": "QNcByRVEQpTZ"
      },
      "execution_count": null,
      "outputs": []
    },
    {
      "cell_type": "code",
      "source": [
        "# Display the classification report and confusion matrix for the best model\n",
        "# print('\\n==============================================')\n",
        "# print('Classification Report for Best Model\\n')\n",
        "# print('==============================================')\n",
        "\n",
        "# accuracy = accuracy_score(df2['label'].values, predictions_imdb)\n",
        "# accuracy_perc = accuracy * 100\n",
        "\n",
        "# print(f\"Accuracy on IMDb dataset: {accuracy_perc:.2f}%\")\n",
        "# print('---------------------------\\n')\n",
        "\n",
        "# print(classification_report(df2['label'], predictions_imdb_best, zero_division=1))\n",
        "\n",
        "# Calculate confusion matrix for best model\n",
        "# cm_best = confusion_matrix(df2['label'], predictions_imdb_best)\n",
        "\n",
        "# Display confusion matrix for best model\n",
        "# display_cm_best = ConfusionMatrixDisplay(confusion_matrix=cm_best, display_labels=['positive', 'neutral', 'negative'])\n",
        "# display_cm_best.plot(cmap='viridis', values_format='d')\n",
        "\n",
        "# plt.title('Confusion Matrix for Best Model')\n",
        "# plt.show()"
      ],
      "metadata": {
        "id": "7qRbcZoBQ-yN"
      },
      "execution_count": null,
      "outputs": []
    }
  ]
}