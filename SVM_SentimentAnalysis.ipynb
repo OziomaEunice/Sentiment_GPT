{
  "nbformat": 4,
  "nbformat_minor": 0,
  "metadata": {
    "colab": {
      "provenance": [],
      "authorship_tag": "ABX9TyPr1B5lQ8/DhxMQx/1AuwNy",
      "include_colab_link": true
    },
    "kernelspec": {
      "name": "python3",
      "display_name": "Python 3"
    },
    "language_info": {
      "name": "python"
    }
  },
  "cells": [
    {
      "cell_type": "markdown",
      "metadata": {
        "id": "view-in-github",
        "colab_type": "text"
      },
      "source": [
        "<a href=\"https://colab.research.google.com/github/OziomaEunice/Sentiment_GPT/blob/develop/SVM_SentimentAnalysis.ipynb\" target=\"_parent\"><img src=\"https://colab.research.google.com/assets/colab-badge.svg\" alt=\"Open In Colab\"/></a>"
      ]
    },
    {
      "cell_type": "markdown",
      "source": [
        "#**SVM for Sentiment Analysis**"
      ],
      "metadata": {
        "id": "NhJwKmymF1Nx"
      }
    },
    {
      "cell_type": "markdown",
      "source": [
        "## **Training SVM**"
      ],
      "metadata": {
        "id": "IzG5yXblGA52"
      }
    },
    {
      "cell_type": "code",
      "source": [
        "#"
      ],
      "metadata": {
        "id": "Jew2jFBbGKkK"
      },
      "execution_count": null,
      "outputs": []
    },
    {
      "cell_type": "markdown",
      "source": [
        "## **Testing SVM**"
      ],
      "metadata": {
        "id": "LBYL_hJoGLuI"
      }
    },
    {
      "cell_type": "code",
      "source": [
        "#"
      ],
      "metadata": {
        "id": "YOcBU190GTRx"
      },
      "execution_count": null,
      "outputs": []
    }
  ]
}